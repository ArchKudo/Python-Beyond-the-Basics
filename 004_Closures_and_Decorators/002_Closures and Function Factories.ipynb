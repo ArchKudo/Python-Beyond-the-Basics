{
 "cells": [
  {
   "cell_type": "markdown",
   "metadata": {},
   "source": [
    "## Closures\n",
    "A function which remembers environment in which it was created"
   ]
  },
  {
   "cell_type": "code",
   "execution_count": 24,
   "metadata": {
    "collapsed": true
   },
   "outputs": [],
   "source": [
    "def enclosing():\n",
    "    x = 'closed over from enclosing()..'\n",
    "    y = 'Am I included too?'\n",
    "    def local_func():\n",
    "        print(x)\n",
    "        # print(y)\n",
    "    return local_func"
   ]
  },
  {
   "cell_type": "code",
   "execution_count": 25,
   "metadata": {
    "collapsed": false
   },
   "outputs": [
    {
     "data": {
      "text/plain": [
       "<function __main__.enclosing.<locals>.local_func>"
      ]
     },
     "execution_count": 25,
     "metadata": {},
     "output_type": "execute_result"
    }
   ],
   "source": [
    "enclosing() # Returns local_func"
   ]
  },
  {
   "cell_type": "code",
   "execution_count": 26,
   "metadata": {
    "collapsed": true
   },
   "outputs": [],
   "source": [
    "lf = enclosing() # Set lf to return value of enclosing() i.e is local_func"
   ]
  },
  {
   "cell_type": "markdown",
   "metadata": {},
   "source": [
    "Here __x__'s value is retained even after __enclosing()__ function exited"
   ]
  },
  {
   "cell_type": "code",
   "execution_count": 27,
   "metadata": {
    "collapsed": false
   },
   "outputs": [
    {
     "name": "stdout",
     "output_type": "stream",
     "text": [
      "closed over from enclosing()..\n"
     ]
    }
   ],
   "source": [
    "lf()"
   ]
  },
  {
   "cell_type": "code",
   "execution_count": 28,
   "metadata": {
    "collapsed": false
   },
   "outputs": [
    {
     "data": {
      "text/plain": [
       "(<cell at 0x7ff0dc587378: str object at 0x7ff0dc58b260>,)"
      ]
     },
     "execution_count": 28,
     "metadata": {},
     "output_type": "execute_result"
    }
   ],
   "source": [
    "lf.__closure__ # Prints all the environment variables in it was created"
   ]
  },
  {
   "cell_type": "markdown",
   "metadata": {},
   "source": [
    "## Function Factory\n",
    "Function used to generate other functions"
   ]
  },
  {
   "cell_type": "code",
   "execution_count": 33,
   "metadata": {
    "collapsed": true
   },
   "outputs": [],
   "source": [
    "# Create a function to generate functions which raise to a certain power\n",
    "def raise_factory(exp):\n",
    "    def raise_to_exp(x):\n",
    "        return pow(x, exp)\n",
    "    return raise_to_exp"
   ]
  },
  {
   "cell_type": "code",
   "execution_count": 38,
   "metadata": {
    "collapsed": false
   },
   "outputs": [
    {
     "name": "stdout",
     "output_type": "stream",
     "text": [
      "144\n",
      "(<cell at 0x7ff0dc632948: int object at 0x7ff0e8235a40>,)\n"
     ]
    }
   ],
   "source": [
    "square = raise_factory(2)\n",
    "print(square(12))\n",
    "print(square.__closure__) # Stores the exp int"
   ]
  },
  {
   "cell_type": "code",
   "execution_count": 37,
   "metadata": {
    "collapsed": false
   },
   "outputs": [
    {
     "name": "stdout",
     "output_type": "stream",
     "text": [
      "1728\n",
      "(<cell at 0x7ff0dc632b28: int object at 0x7ff0e8235a60>,)\n"
     ]
    }
   ],
   "source": [
    "cube = raise_factory(3)\n",
    "print(cube(12))\n",
    "print(cube.__closure__)"
   ]
  }
 ],
 "metadata": {
  "kernelspec": {
   "display_name": "Python [conda root]",
   "language": "python",
   "name": "conda-root-py"
  },
  "language_info": {
   "codemirror_mode": {
    "name": "ipython",
    "version": 3
   },
   "file_extension": ".py",
   "mimetype": "text/x-python",
   "name": "python",
   "nbconvert_exporter": "python",
   "pygments_lexer": "ipython3",
   "version": "3.5.2"
  }
 },
 "nbformat": 4,
 "nbformat_minor": 2
}
