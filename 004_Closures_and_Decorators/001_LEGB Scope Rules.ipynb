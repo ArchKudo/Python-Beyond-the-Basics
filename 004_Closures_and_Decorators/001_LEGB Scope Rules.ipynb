{
 "cells": [
  {
   "cell_type": "markdown",
   "metadata": {},
   "source": [
    "## Functions can be defined inside other functions"
   ]
  },
  {
   "cell_type": "code",
   "execution_count": 1,
   "metadata": {
    "collapsed": false
   },
   "outputs": [
    {
     "name": "stdout",
     "output_type": "stream",
     "text": [
      "3\n"
     ]
    }
   ],
   "source": [
    "# A simple function\n",
    "def func():\n",
    "    x = 1\n",
    "    y = 2\n",
    "    return x + y\n",
    "print(func())"
   ]
  },
  {
   "cell_type": "code",
   "execution_count": 12,
   "metadata": {
    "collapsed": false
   },
   "outputs": [
    {
     "name": "stdout",
     "output_type": "stream",
     "text": [
      "hello, world!\n",
      "local_func() not defined\n"
     ]
    }
   ],
   "source": [
    "# A local function inside a function\n",
    "def func():\n",
    "    def local_func():\n",
    "        return 'hello, world!'\n",
    "    return local_func()\n",
    "\n",
    "print(func())\n",
    "try:\n",
    "    print(local_func())\n",
    "except:\n",
    "    print('local_func() not defined')"
   ]
  },
  {
   "cell_type": "code",
   "execution_count": 30,
   "metadata": {
    "collapsed": true
   },
   "outputs": [],
   "source": [
    "# Another example to sort a string\n",
    "store = [] # To store instances of \n",
    "def sort(string):\n",
    "    def last_letter(s):\n",
    "        return s[-1]\n",
    "    store.append(last_letter)\n",
    "    return sorted(string, key=last_letter)\n"
   ]
  },
  {
   "cell_type": "code",
   "execution_count": 32,
   "metadata": {
    "collapsed": false
   },
   "outputs": [
    {
     "name": "stdout",
     "output_type": "stream",
     "text": [
      "['ba', 'ab', 'db', 'cd']\n",
      "[<function sort.<locals>.last_letter at 0x7fbbbc29db70>, <function sort.<locals>.last_letter at 0x7fbbbc299268>]\n"
     ]
    }
   ],
   "source": [
    "print(sort(['ab', 'ba', 'cd', 'db']))\n",
    "print(store) # A new function is created everytime def is executed (here it is run two times)"
   ]
  },
  {
   "cell_type": "markdown",
   "metadata": {},
   "source": [
    "## The LEGB rule\n",
    "\n",
    "1. Local \n",
    "2. Enclosed\n",
    "3. Global\n",
    "4. Built-in\n",
    "\n"
   ]
  },
  {
   "cell_type": "code",
   "execution_count": 11,
   "metadata": {
    "collapsed": false
   },
   "outputs": [
    {
     "name": "stdout",
     "output_type": "stream",
     "text": [
      "Hi from local_func 102 103 104\n",
      "Hi from func 69 70 71\n",
      "Hi from __main__ 42 43 44\n"
     ]
    }
   ],
   "source": [
    "(x, y, z) = 42, 43, 44 # Global scope\n",
    "def func():\n",
    "    (x, y, z) = 69, 70, 71 # Enclosed scope for local_func(), local scope for func()\n",
    "    def local_func():\n",
    "        (x, y, z) = 102, 103, 104 # Local scope\n",
    "        print('Hi from', local_func.__name__, x, y, z)\n",
    "    local_func()\n",
    "    print('Hi from', func.__name__, x, y, z)\n",
    "func()\n",
    "print('Hi from', __name__, x, y, z)"
   ]
  },
  {
   "cell_type": "markdown",
   "metadata": {},
   "source": [
    "### However local functions don't change the variables of the enclosing / global scope\n",
    "In the following code every function creates its own __message__ variable"
   ]
  },
  {
   "cell_type": "code",
   "execution_count": 4,
   "metadata": {
    "collapsed": false
   },
   "outputs": [
    {
     "name": "stdout",
     "output_type": "stream",
     "text": [
      "local\n",
      "enclosing\n",
      "global\n"
     ]
    }
   ],
   "source": [
    "message = 'global'\n",
    "\n",
    "\n",
    "def enclosing():\n",
    "    message = 'enclosing'\n",
    "    def local():\n",
    "        message = 'local'\n",
    "        print(message)\n",
    "    local()\n",
    "    print(message)\n",
    "    \n",
    "\n",
    "enclosing()\n",
    "print(message)"
   ]
  },
  {
   "cell_type": "markdown",
   "metadata": {},
   "source": [
    "### To change global variables we could use the global keyword"
   ]
  },
  {
   "cell_type": "code",
   "execution_count": 6,
   "metadata": {
    "collapsed": false
   },
   "outputs": [
    {
     "name": "stdout",
     "output_type": "stream",
     "text": [
      "local\n",
      "enclosing\n",
      "local\n"
     ]
    }
   ],
   "source": [
    "message = 'global'\n",
    "\n",
    "\n",
    "def enclosing():\n",
    "    message = 'enclosing'\n",
    "    def local():\n",
    "        global message\n",
    "        message = 'local'\n",
    "        print(message) # Changes message from 'global' -> 'local'\n",
    "    local()\n",
    "    print(message)\n",
    "    \n",
    "\n",
    "enclosing()\n",
    "print(message)"
   ]
  },
  {
   "cell_type": "markdown",
   "metadata": {},
   "source": [
    "### To change enclosing variables we use nonlocal keyword"
   ]
  },
  {
   "cell_type": "code",
   "execution_count": 7,
   "metadata": {
    "collapsed": false
   },
   "outputs": [
    {
     "name": "stdout",
     "output_type": "stream",
     "text": [
      "local\n",
      "local\n",
      "global\n"
     ]
    }
   ],
   "source": [
    "message = 'global'\n",
    "\n",
    "\n",
    "def enclosing():\n",
    "    message = 'enclosing'\n",
    "    def local():\n",
    "        nonlocal message\n",
    "        message = 'local'\n",
    "        print(message) # Changes message from 'enclosing' -> 'local'\n",
    "    local()\n",
    "    print(message)\n",
    "    \n",
    "\n",
    "enclosing()\n",
    "print(message)"
   ]
  },
  {
   "cell_type": "markdown",
   "metadata": {},
   "source": [
    "### A more practical example of when to use nonlocal"
   ]
  },
  {
   "cell_type": "code",
   "execution_count": 8,
   "metadata": {
    "collapsed": true
   },
   "outputs": [],
   "source": [
    "import time"
   ]
  },
  {
   "cell_type": "code",
   "execution_count": 23,
   "metadata": {
    "collapsed": true
   },
   "outputs": [],
   "source": [
    "def make_timer():\n",
    "    last_called = None\n",
    "    \n",
    "    def elapsed():\n",
    "        nonlocal last_called\n",
    "        now = time.time()\n",
    "        \n",
    "        if last_called is None:\n",
    "            last_called = now\n",
    "            return None\n",
    "        \n",
    "        result = now - last_called\n",
    "        last_called = now\n",
    "        return result\n",
    "    \n",
    "    return elapsed"
   ]
  },
  {
   "cell_type": "code",
   "execution_count": 24,
   "metadata": {
    "collapsed": true
   },
   "outputs": [],
   "source": [
    "new_timer = make_timer()"
   ]
  },
  {
   "cell_type": "code",
   "execution_count": 25,
   "metadata": {
    "collapsed": true
   },
   "outputs": [],
   "source": [
    "new_timer()"
   ]
  },
  {
   "cell_type": "code",
   "execution_count": 26,
   "metadata": {
    "collapsed": false
   },
   "outputs": [
    {
     "data": {
      "text/plain": [
       "1.1587612628936768"
      ]
     },
     "execution_count": 26,
     "metadata": {},
     "output_type": "execute_result"
    }
   ],
   "source": [
    "new_timer()"
   ]
  },
  {
   "cell_type": "code",
   "execution_count": 27,
   "metadata": {
    "collapsed": false
   },
   "outputs": [
    {
     "data": {
      "text/plain": [
       "1.820242166519165"
      ]
     },
     "execution_count": 27,
     "metadata": {},
     "output_type": "execute_result"
    }
   ],
   "source": [
    "new_timer()"
   ]
  },
  {
   "cell_type": "markdown",
   "metadata": {},
   "source": [
    "All new timers are independent"
   ]
  },
  {
   "cell_type": "code",
   "execution_count": 28,
   "metadata": {
    "collapsed": true
   },
   "outputs": [],
   "source": [
    "new_timer2 = make_timer()"
   ]
  },
  {
   "cell_type": "code",
   "execution_count": 29,
   "metadata": {
    "collapsed": true
   },
   "outputs": [],
   "source": [
    "new_timer2()"
   ]
  },
  {
   "cell_type": "code",
   "execution_count": 30,
   "metadata": {
    "collapsed": false
   },
   "outputs": [
    {
     "data": {
      "text/plain": [
       "0.6697626113891602"
      ]
     },
     "execution_count": 30,
     "metadata": {},
     "output_type": "execute_result"
    }
   ],
   "source": [
    "new_timer2()"
   ]
  },
  {
   "cell_type": "code",
   "execution_count": 31,
   "metadata": {
    "collapsed": false
   },
   "outputs": [
    {
     "data": {
      "text/plain": [
       "5.053479909896851"
      ]
     },
     "execution_count": 31,
     "metadata": {},
     "output_type": "execute_result"
    }
   ],
   "source": [
    "new_timer() "
   ]
  },
  {
   "cell_type": "code",
   "execution_count": null,
   "metadata": {
    "collapsed": true
   },
   "outputs": [],
   "source": []
  }
 ],
 "metadata": {
  "kernelspec": {
   "display_name": "Python [conda root]",
   "language": "python",
   "name": "conda-root-py"
  },
  "language_info": {
   "codemirror_mode": {
    "name": "ipython",
    "version": 3
   },
   "file_extension": ".py",
   "mimetype": "text/x-python",
   "name": "python",
   "nbconvert_exporter": "python",
   "pygments_lexer": "ipython3",
   "version": "3.5.2"
  }
 },
 "nbformat": 4,
 "nbformat_minor": 2
}
