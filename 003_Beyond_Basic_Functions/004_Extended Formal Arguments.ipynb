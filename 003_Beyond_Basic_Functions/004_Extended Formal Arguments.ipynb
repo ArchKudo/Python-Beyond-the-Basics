{
 "cells": [
  {
   "cell_type": "markdown",
   "metadata": {},
   "source": [
    "## Extended positional arguments"
   ]
  },
  {
   "cell_type": "code",
   "execution_count": 1,
   "metadata": {
    "collapsed": true
   },
   "outputs": [],
   "source": [
    "# A function to get volume of n-dimensional hypercuboid\n",
    "def hypervolume(*lengths):\n",
    "    v = 1\n",
    "    for i in lengths:\n",
    "        v *= i\n",
    "    return v"
   ]
  },
  {
   "cell_type": "code",
   "execution_count": 2,
   "metadata": {
    "collapsed": false
   },
   "outputs": [
    {
     "data": {
      "text/plain": [
       "24"
      ]
     },
     "execution_count": 2,
     "metadata": {},
     "output_type": "execute_result"
    }
   ],
   "source": [
    "hypervolume(2, 3, 4)"
   ]
  },
  {
   "cell_type": "code",
   "execution_count": 3,
   "metadata": {
    "collapsed": false
   },
   "outputs": [
    {
     "data": {
      "text/plain": [
       "1"
      ]
     },
     "execution_count": 3,
     "metadata": {},
     "output_type": "execute_result"
    }
   ],
   "source": [
    "# However passing 0 arguments produces ugly bugs\n",
    "hypervolume()"
   ]
  },
  {
   "cell_type": "code",
   "execution_count": 4,
   "metadata": {
    "collapsed": true
   },
   "outputs": [],
   "source": [
    "# A better hypervolume\n",
    "def hypervolume(dim, *dims):\n",
    "    v = dim\n",
    "    for i in dims:\n",
    "        v *= i\n",
    "    return v"
   ]
  },
  {
   "cell_type": "code",
   "execution_count": 5,
   "metadata": {
    "collapsed": false
   },
   "outputs": [
    {
     "name": "stdout",
     "output_type": "stream",
     "text": [
      "Does not work without passing atleast one args\n"
     ]
    }
   ],
   "source": [
    "try:\n",
    "    hypervolume()\n",
    "except:\n",
    "    print('Does not work without passing atleast one args')"
   ]
  },
  {
   "cell_type": "markdown",
   "metadata": {},
   "source": [
    "## Extended keyword arguments"
   ]
  },
  {
   "cell_type": "code",
   "execution_count": 6,
   "metadata": {
    "collapsed": true
   },
   "outputs": [],
   "source": [
    "def tag_factory(tag, **attributes):\n",
    "    result = '<' + tag\n",
    "    for k, v in attributes.items():\n",
    "        result += ' {k}=\"{v}\"'.format(k=k, v=str(v))\n",
    "    result += '>'\n",
    "    return result"
   ]
  },
  {
   "cell_type": "code",
   "execution_count": 7,
   "metadata": {
    "collapsed": false
   },
   "outputs": [
    {
     "name": "stdout",
     "output_type": "stream",
     "text": [
      "<img src=\"kitty.jpg\" alt=\"a kitty\">\n"
     ]
    }
   ],
   "source": [
    "print(tag_factory('img', src='kitty.jpg', alt='a kitty'))"
   ]
  },
  {
   "cell_type": "markdown",
   "metadata": {},
   "source": [
    "## Extended arguments call syntax"
   ]
  },
  {
   "cell_type": "code",
   "execution_count": 8,
   "metadata": {
    "collapsed": false
   },
   "outputs": [],
   "source": [
    "def print_tup(item1, item2, *items):\n",
    "    print('{0}, {1}'.format(item1, type(item1)))\n",
    "    print('{0}, {1}'.format(item2, type(item2)))\n",
    "    print('{0}, {1}'.format(items, type(items)))"
   ]
  },
  {
   "cell_type": "code",
   "execution_count": 9,
   "metadata": {
    "collapsed": false
   },
   "outputs": [
    {
     "name": "stdout",
     "output_type": "stream",
     "text": [
      "0, <class 'int'>\n",
      "1, <class 'int'>\n",
      "(2, 3, 4, 5, 6, 7, 8, 9), <class 'tuple'>\n"
     ]
    }
   ],
   "source": [
    "t = tuple(i for i in range(10))\n",
    "print_tup(*t)"
   ]
  },
  {
   "cell_type": "code",
   "execution_count": 10,
   "metadata": {
    "collapsed": true
   },
   "outputs": [],
   "source": [
    "def print_kwargs(i, j, **k):\n",
    "    print('i=', i)\n",
    "    print('j=', j)\n",
    "    print(k)"
   ]
  },
  {
   "cell_type": "code",
   "execution_count": 11,
   "metadata": {
    "collapsed": false
   },
   "outputs": [
    {
     "name": "stdout",
     "output_type": "stream",
     "text": [
      "i= a\n",
      "j= b\n",
      "{'c': 'j'}\n"
     ]
    }
   ],
   "source": [
    "k = dict(i='a', j='b', c='j')\n",
    "print_kwargs(**k)"
   ]
  },
  {
   "cell_type": "code",
   "execution_count": 12,
   "metadata": {
    "collapsed": false
   },
   "outputs": [],
   "source": [
    "def trace(f, *args, **kwargs):\n",
    "    print('args = ', args)\n",
    "    print('kwargs = ', kwargs)\n",
    "    result = f(*args, **kwargs)\n",
    "    print(result)\n"
   ]
  },
  {
   "cell_type": "code",
   "execution_count": 13,
   "metadata": {
    "collapsed": false
   },
   "outputs": [
    {
     "data": {
      "text/plain": [
       "255"
      ]
     },
     "execution_count": 13,
     "metadata": {},
     "output_type": "execute_result"
    }
   ],
   "source": [
    "int('ff', base=16)"
   ]
  },
  {
   "cell_type": "code",
   "execution_count": 14,
   "metadata": {
    "collapsed": false
   },
   "outputs": [
    {
     "name": "stdout",
     "output_type": "stream",
     "text": [
      "args =  ('ff',)\n",
      "kwargs =  {'base': 16}\n",
      "255\n"
     ]
    }
   ],
   "source": [
    "trace(int, 'ff', base=16)"
   ]
  },
  {
   "cell_type": "code",
   "execution_count": 15,
   "metadata": {
    "collapsed": true
   },
   "outputs": [],
   "source": [
    "from random import randint"
   ]
  },
  {
   "cell_type": "code",
   "execution_count": 17,
   "metadata": {
    "collapsed": false
   },
   "outputs": [],
   "source": [
    "t = [[randint(10 * i, 10 * i + 10) for x in range(10)] for i in range(3)]"
   ]
  },
  {
   "cell_type": "code",
   "execution_count": 18,
   "metadata": {
    "collapsed": false
   },
   "outputs": [],
   "source": [
    "from pprint import pprint as pp"
   ]
  },
  {
   "cell_type": "code",
   "execution_count": 19,
   "metadata": {
    "collapsed": false
   },
   "outputs": [
    {
     "name": "stdout",
     "output_type": "stream",
     "text": [
      "[[5, 4, 1, 3, 2, 0, 0, 6, 8, 10],\n",
      " [14, 18, 17, 20, 15, 18, 18, 12, 19, 18],\n",
      " [25, 22, 22, 27, 24, 20, 21, 22, 21, 28]]\n"
     ]
    }
   ],
   "source": [
    "pp(mat)"
   ]
  },
  {
   "cell_type": "code",
   "execution_count": 20,
   "metadata": {
    "collapsed": false
   },
   "outputs": [
    {
     "name": "stdout",
     "output_type": "stream",
     "text": [
      "(5, 14, 25)\n",
      "(4, 18, 22)\n",
      "(1, 17, 22)\n",
      "(3, 20, 27)\n",
      "(2, 15, 24)\n",
      "(0, 18, 20)\n",
      "(0, 18, 21)\n",
      "(6, 12, 22)\n",
      "(8, 19, 21)\n",
      "(10, 18, 28)\n"
     ]
    }
   ],
   "source": [
    "for item in zip(mat[0], mat[1], mat[2]):\n",
    "    pp(item)"
   ]
  },
  {
   "cell_type": "code",
   "execution_count": 21,
   "metadata": {
    "collapsed": false
   },
   "outputs": [
    {
     "name": "stdout",
     "output_type": "stream",
     "text": [
      "(5, 14, 25)\n",
      "(4, 18, 22)\n",
      "(1, 17, 22)\n",
      "(3, 20, 27)\n",
      "(2, 15, 24)\n",
      "(0, 18, 20)\n",
      "(0, 18, 21)\n",
      "(6, 12, 22)\n",
      "(8, 19, 21)\n",
      "(10, 18, 28)\n"
     ]
    }
   ],
   "source": [
    "for item in zip(*mat):\n",
    "    pp(item)"
   ]
  },
  {
   "cell_type": "code",
   "execution_count": 22,
   "metadata": {
    "collapsed": false,
    "scrolled": true
   },
   "outputs": [
    {
     "name": "stdout",
     "output_type": "stream",
     "text": [
      "[[5, 4, 1, 3, 2, 0, 0, 6, 8, 10],\n",
      " [14, 18, 17, 20, 15, 18, 18, 12, 19, 18],\n",
      " [25, 22, 22, 27, 24, 20, 21, 22, 21, 28]]\n",
      "[(5, 14, 25),\n",
      " (4, 18, 22),\n",
      " (1, 17, 22),\n",
      " (3, 20, 27),\n",
      " (2, 15, 24),\n",
      " (0, 18, 20),\n",
      " (0, 18, 21),\n",
      " (6, 12, 22),\n",
      " (8, 19, 21),\n",
      " (10, 18, 28)]\n"
     ]
    }
   ],
   "source": [
    "# Transposed\n",
    "transposed = list(zip(*mat))\n",
    "pp(mat)\n",
    "pp(transposed)"
   ]
  },
  {
   "cell_type": "code",
   "execution_count": null,
   "metadata": {
    "collapsed": true
   },
   "outputs": [],
   "source": []
  }
 ],
 "metadata": {
  "kernelspec": {
   "display_name": "Python [conda root]",
   "language": "python",
   "name": "conda-root-py"
  },
  "language_info": {
   "codemirror_mode": {
    "name": "ipython",
    "version": 3
   },
   "file_extension": ".py",
   "mimetype": "text/x-python",
   "name": "python",
   "nbconvert_exporter": "python",
   "pygments_lexer": "ipython3",
   "version": "3.5.2"
  }
 },
 "nbformat": 4,
 "nbformat_minor": 2
}
