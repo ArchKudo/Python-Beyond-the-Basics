{
 "cells": [
  {
   "cell_type": "markdown",
   "metadata": {},
   "source": [
    "## Multiple input comprehensions"
   ]
  },
  {
   "cell_type": "code",
   "execution_count": 5,
   "metadata": {
    "collapsed": false
   },
   "outputs": [
    {
     "name": "stdout",
     "output_type": "stream",
     "text": [
      "[(0, 0), (0, 1), (0, 2), (1, 0), (1, 1), (1, 2), (2, 0), (2, 1), (2, 2), (3, 0), (3, 1), (3, 2), (4, 0), (4, 1), (4, 2)]\n"
     ]
    }
   ],
   "source": [
    "# Comprehenion 1\n",
    "# [(input vars) (earlier for-clause) (latter for clause)]\n",
    "l = [(x, y) for x in range(5) for y in range(3)]\n",
    "print(l)"
   ]
  },
  {
   "cell_type": "code",
   "execution_count": 6,
   "metadata": {
    "collapsed": false
   },
   "outputs": [
    {
     "name": "stdout",
     "output_type": "stream",
     "text": [
      "[(0, 0), (0, 1), (0, 2), (1, 0), (1, 1), (1, 2), (2, 0), (2, 1), (2, 2), (3, 0), (3, 1), (3, 2), (4, 0), (4, 1), (4, 2)]\n"
     ]
    }
   ],
   "source": [
    "# Or Comprehension using for loops\n",
    "l = []\n",
    "for x in range(5):\n",
    "    for y in range(3):\n",
    "        l.append((x,y))\n",
    "\n",
    "print(l)"
   ]
  },
  {
   "cell_type": "code",
   "execution_count": 22,
   "metadata": {
    "collapsed": false
   },
   "outputs": [
    {
     "data": {
      "text/plain": [
       "'[Fraction(1, 1), Fraction(51, 50), Fraction(51, 49), Fraction(17, 16), Fraction(51, 47), Fraction(51, 46), ...]'"
      ]
     },
     "execution_count": 22,
     "metadata": {},
     "output_type": "execute_result"
    }
   ],
   "source": [
    "# Comprehension 2 using multiple lines\n",
    "from fractions import Fraction as f\n",
    "from reprlib import repr\n",
    "value = [f(x) / f(x-y)\n",
    "        for x in range(100)\n",
    "        if x > 50\n",
    "        for y in range(100)\n",
    "        if x - y != 0]\n",
    "\n",
    "repr(value)"
   ]
  },
  {
   "cell_type": "code",
   "execution_count": 20,
   "metadata": {
    "collapsed": false
   },
   "outputs": [
    {
     "data": {
      "text/plain": [
       "'[Fraction(1, 1), Fraction(51, 50), Fraction(51, 49), Fraction(17, 16), Fraction(51, 47), Fraction(51, 46), ...]'"
      ]
     },
     "execution_count": 20,
     "metadata": {},
     "output_type": "execute_result"
    }
   ],
   "source": [
    "# Comprehension 2 as nested for loop\n",
    "# List from 50/50, 51/49, 52/48, ..., upto 99/1\n",
    "l = []\n",
    "for x in range(100):\n",
    "    if x > 50:\n",
    "        for y in range(100):\n",
    "            if (x - y) != 0:\n",
    "                l.append(f(x) / f(x-y))\n",
    "repr(l)"
   ]
  },
  {
   "cell_type": "code",
   "execution_count": 26,
   "metadata": {
    "collapsed": false
   },
   "outputs": [
    {
     "data": {
      "text/plain": [
       "'[(1, 0), (2, 0), (2, 1), (3, 0), (3, 1), (3, 2), ...]'"
      ]
     },
     "execution_count": 26,
     "metadata": {},
     "output_type": "execute_result"
    }
   ],
   "source": [
    "# Comprehension 3 to create a triangle of co-ordinates\n",
    "l = [(x, y) for x in range(10) for y in range(x)]\n",
    "repr(l)"
   ]
  },
  {
   "cell_type": "code",
   "execution_count": 28,
   "metadata": {
    "collapsed": false
   },
   "outputs": [
    {
     "data": {
      "text/plain": [
       "'[(1, 0), (2, 0), (2, 1), (3, 0), (3, 1), (3, 2), ...]'"
      ]
     },
     "execution_count": 28,
     "metadata": {},
     "output_type": "execute_result"
    }
   ],
   "source": [
    "# Comprehension 3 as for loop\n",
    "l = []\n",
    "for x in range(10):\n",
    "    for y in range(x):\n",
    "        l.append((x, y))\n",
    "\n",
    "repr(l)"
   ]
  },
  {
   "cell_type": "markdown",
   "metadata": {},
   "source": [
    "### Nested comprehensions"
   ]
  },
  {
   "cell_type": "code",
   "execution_count": 47,
   "metadata": {
    "collapsed": false
   },
   "outputs": [
    {
     "name": "stdout",
     "output_type": "stream",
     "text": [
      "[[3],\n",
      " [3, 6],\n",
      " [3, 6, 9],\n",
      " [3, 6, 9, 12],\n",
      " [3, 6, 9, 12, 15],\n",
      " [3, 6, 9, 12, 15, 18],\n",
      " [3, 6, 9, 12, 15, 18, 21],\n",
      " [3, 6, 9, 12, 15, 18, 21, 24]]\n"
     ]
    }
   ],
   "source": [
    "# Comprehension 4 for printing incrementing list of multiples of 3\n",
    "from pprint import pprint as pp\n",
    "res = [[y * 3 for y in range(1, x)] for x in range(2, 10)]\n",
    "pp(res)"
   ]
  },
  {
   "cell_type": "code",
   "execution_count": 52,
   "metadata": {
    "collapsed": false
   },
   "outputs": [
    {
     "name": "stdout",
     "output_type": "stream",
     "text": [
      "[[3],\n",
      " [3, 6],\n",
      " [3, 6, 9],\n",
      " [3, 6, 9, 12],\n",
      " [3, 6, 9, 12, 15],\n",
      " [3, 6, 9, 12, 15, 18],\n",
      " [3, 6, 9, 12, 15, 18, 21],\n",
      " [3, 6, 9, 12, 15, 18, 21, 24]]\n"
     ]
    }
   ],
   "source": [
    "# Comprehenion 4 using for loops\n",
    "outer_list = []\n",
    "for x in range(2, 10):\n",
    "    inner_list = []\n",
    "    for y in range(1, x):\n",
    "        inner_list.append(y * 3)\n",
    "    outer_list.append(inner_list)\n",
    "pp(outer_list)"
   ]
  },
  {
   "cell_type": "markdown",
   "metadata": {},
   "source": [
    "## map()\n",
    "Given a sequence, create another sequence by applying method on the first.  \n",
    "map() Yields value and hence must be iterated using next()"
   ]
  },
  {
   "cell_type": "code",
   "execution_count": 55,
   "metadata": {
    "collapsed": false
   },
   "outputs": [
    {
     "data": {
      "text/plain": [
       "\"['d', 'e', 'f', 'g', 'h', 'i', ...]\""
      ]
     },
     "execution_count": 55,
     "metadata": {},
     "output_type": "execute_result"
    }
   ],
   "source": [
    "l = list(map(chr, [x for x in range(100, 150)]))\n",
    "repr(l)"
   ]
  },
  {
   "cell_type": "markdown",
   "metadata": {},
   "source": [
    "## Using multiple sequence with map"
   ]
  },
  {
   "cell_type": "code",
   "execution_count": 63,
   "metadata": {
    "collapsed": false
   },
   "outputs": [],
   "source": [
    "(x, y, z) = ([x for x in range(10)],\n",
    "            [y * 3 for y in range(10)],\n",
    "            [z * 5 for z in range(10)])"
   ]
  },
  {
   "cell_type": "code",
   "execution_count": 64,
   "metadata": {
    "collapsed": false
   },
   "outputs": [
    {
     "name": "stdout",
     "output_type": "stream",
     "text": [
      "[[0, 0, 0],\n",
      " [1, 3, 5],\n",
      " [2, 6, 10],\n",
      " [3, 9, 15],\n",
      " [4, 12, 20],\n",
      " [5, 15, 25],\n",
      " [6, 18, 30],\n",
      " [7, 21, 35],\n",
      " [8, 24, 40],\n",
      " [9, 27, 45]]\n"
     ]
    }
   ],
   "source": [
    "lst = list(map(lambda x,y,z: [x, y, z], x, y, z))\n",
    "pp(lst)"
   ]
  },
  {
   "cell_type": "code",
   "execution_count": 65,
   "metadata": {
    "collapsed": true
   },
   "outputs": [],
   "source": [
    "# However map stops when one of the list is exhausted\n",
    "(x, y, z) = ([x for x in range(10)],\n",
    "            [y * 3 for y in range(12)],\n",
    "            [z * 5 for z in range(15)])"
   ]
  },
  {
   "cell_type": "code",
   "execution_count": 67,
   "metadata": {
    "collapsed": false
   },
   "outputs": [
    {
     "name": "stdout",
     "output_type": "stream",
     "text": [
      "[[0, 0, 0],\n",
      " [1, 3, 5],\n",
      " [2, 6, 10],\n",
      " [3, 9, 15],\n",
      " [4, 12, 20],\n",
      " [5, 15, 25],\n",
      " [6, 18, 30],\n",
      " [7, 21, 35],\n",
      " [8, 24, 40],\n",
      " [9, 27, 45]]\n"
     ]
    }
   ],
   "source": [
    "# lst is similar to previous mapped lst\n",
    "lst = list(map(lambda x,y,z: [x, y, z], x, y, z))\n",
    "pp(lst)"
   ]
  },
  {
   "cell_type": "markdown",
   "metadata": {},
   "source": [
    "### Using map() as comprehensions"
   ]
  },
  {
   "cell_type": "code",
   "execution_count": 77,
   "metadata": {
    "collapsed": false
   },
   "outputs": [
    {
     "name": "stdout",
     "output_type": "stream",
     "text": [
      "[0, 1, 2, 3, 4]\n",
      "[0, 1, 2, 3, 4]\n"
     ]
    }
   ],
   "source": [
    "# This \n",
    "lst = list(map(int, range(5)))\n",
    "print(lst)\n",
    "\n",
    "# is similar to \n",
    "lst = [x for x in range(5)]\n",
    "print(lst)"
   ]
  },
  {
   "cell_type": "markdown",
   "metadata": {},
   "source": [
    "## filter()\n",
    "Given a single sequence, create a sequence which matches the value filtered by given function"
   ]
  },
  {
   "cell_type": "code",
   "execution_count": 80,
   "metadata": {
    "collapsed": false
   },
   "outputs": [
    {
     "name": "stdout",
     "output_type": "stream",
     "text": [
      "[0, 2, 4, 6, 8]\n"
     ]
    }
   ],
   "source": [
    "even = list(filter(lambda x: x % 2 == 0, [x for x in range(10)]))\n",
    "print(even)"
   ]
  },
  {
   "cell_type": "markdown",
   "metadata": {},
   "source": [
    "## functools.reduce()\n",
    "Accumulate a given sequence using a function  \n",
    "Does not work on empty sequences\n",
    "Returns the only iterable if passed without evaluating\n"
   ]
  },
  {
   "cell_type": "code",
   "execution_count": 82,
   "metadata": {
    "collapsed": true
   },
   "outputs": [],
   "source": [
    "from functools import reduce\n",
    "from operator import add"
   ]
  },
  {
   "cell_type": "code",
   "execution_count": 83,
   "metadata": {
    "collapsed": false
   },
   "outputs": [
    {
     "data": {
      "text/plain": [
       "15"
      ]
     },
     "execution_count": 83,
     "metadata": {},
     "output_type": "execute_result"
    }
   ],
   "source": [
    "reduce(add, [1, 2, 3, 4, 5]) "
   ]
  },
  {
   "cell_type": "code",
   "execution_count": 84,
   "metadata": {
    "collapsed": false
   },
   "outputs": [
    {
     "name": "stdout",
     "output_type": "stream",
     "text": [
      "15\n"
     ]
    }
   ],
   "source": [
    "# Above using for loops\n",
    "num = [1, 2, 3, 4, 5]\n",
    "acc = 0\n",
    "for i in num:\n",
    "    acc += i\n",
    "print(acc)"
   ]
  },
  {
   "cell_type": "code",
   "execution_count": 90,
   "metadata": {
    "collapsed": false
   },
   "outputs": [
    {
     "name": "stdout",
     "output_type": "stream",
     "text": [
      "0\n"
     ]
    }
   ],
   "source": [
    "# reduce has optional initial value too\n",
    "try:\n",
    "    x = reduce(add, [])\n",
    "    print(x)\n",
    "except TypeError:\n",
    "    x = reduce(add, [], 0)\n",
    "    print(x)"
   ]
  }
 ],
 "metadata": {
  "kernelspec": {
   "display_name": "Python [conda root]",
   "language": "python",
   "name": "conda-root-py"
  },
  "language_info": {
   "codemirror_mode": {
    "name": "ipython",
    "version": 3
   },
   "file_extension": ".py",
   "mimetype": "text/x-python",
   "name": "python",
   "nbconvert_exporter": "python",
   "pygments_lexer": "ipython3",
   "version": "3.5.2"
  }
 },
 "nbformat": 4,
 "nbformat_minor": 2
}
