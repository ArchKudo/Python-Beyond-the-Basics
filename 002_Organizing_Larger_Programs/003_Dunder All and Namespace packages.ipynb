{
 "cells": [
  {
   "cell_type": "markdown",
   "metadata": {},
   "source": [
    "## \\__all__ "
   ]
  },
  {
   "cell_type": "markdown",
   "metadata": {},
   "source": [
    "1. To import specific Classes/ Functions use \\__all__\n",
    "2. If \\__all__ is not specified, `from module import *` will import all modules and classes\n",
    "3. \\__all__ is a `list` of `str` containing what functions/ modules to import"
   ]
  },
  {
   "cell_type": "code",
   "execution_count": 1,
   "metadata": {
    "collapsed": false
   },
   "outputs": [
    {
     "data": {
      "text/plain": [
       "{'In': ['', 'locals()'],\n",
       " 'Out': {},\n",
       " '_': '',\n",
       " '__': '',\n",
       " '___': '',\n",
       " '__builtin__': <module 'builtins' (built-in)>,\n",
       " '__builtins__': <module 'builtins' (built-in)>,\n",
       " '__doc__': 'Automatically created module for IPython interactive environment',\n",
       " '__loader__': None,\n",
       " '__name__': '__main__',\n",
       " '__package__': None,\n",
       " '__spec__': None,\n",
       " '_dh': ['/home/deen/Code/Python/Python Beyond the Basics'],\n",
       " '_i': '',\n",
       " '_i1': 'locals()',\n",
       " '_ih': ['', 'locals()'],\n",
       " '_ii': '',\n",
       " '_iii': '',\n",
       " '_oh': {},\n",
       " '_sh': <module 'IPython.core.shadowns' from '/home/deen/anaconda3/lib/python3.5/site-packages/IPython/core/shadowns.py'>,\n",
       " 'exit': <IPython.core.autocall.ZMQExitAutocall at 0x7ff431dc79b0>,\n",
       " 'get_ipython': <bound method InteractiveShell.get_ipython of <ipykernel.zmqshell.ZMQInteractiveShell object at 0x7ff434e1c9b0>>,\n",
       " 'quit': <IPython.core.autocall.ZMQExitAutocall at 0x7ff431dc79b0>}"
      ]
     },
     "execution_count": 1,
     "metadata": {},
     "output_type": "execute_result"
    }
   ],
   "source": [
    "# locals() gives a dict mapping local vars to \n",
    "locals()"
   ]
  },
  {
   "cell_type": "code",
   "execution_count": 2,
   "metadata": {
    "collapsed": false
   },
   "outputs": [
    {
     "name": "stdout",
     "output_type": "stream",
     "text": [
      "Importing compressed package...\n",
      "Importing pkg...\n"
     ]
    }
   ],
   "source": [
    "from reader.compressed import *"
   ]
  },
  {
   "cell_type": "code",
   "execution_count": 3,
   "metadata": {
    "collapsed": false
   },
   "outputs": [
    {
     "data": {
      "text/plain": [
       "{'In': ['', 'locals()', 'from reader.compressed import *', 'locals()'],\n",
       " 'Out': {1: {...}},\n",
       " '_': {...},\n",
       " '_1': {...},\n",
       " '__': '',\n",
       " '___': '',\n",
       " '__builtin__': <module 'builtins' (built-in)>,\n",
       " '__builtins__': <module 'builtins' (built-in)>,\n",
       " '__doc__': 'Automatically created module for IPython interactive environment',\n",
       " '__loader__': None,\n",
       " '__name__': '__main__',\n",
       " '__package__': None,\n",
       " '__spec__': None,\n",
       " '_dh': ['/home/deen/Code/Python/Python Beyond the Basics'],\n",
       " '_i': 'from reader.compressed import *',\n",
       " '_i1': 'locals()',\n",
       " '_i2': 'from reader.compressed import *',\n",
       " '_i3': 'locals()',\n",
       " '_ih': ['', 'locals()', 'from reader.compressed import *', 'locals()'],\n",
       " '_ii': 'locals()',\n",
       " '_iii': '',\n",
       " '_oh': {1: {...}},\n",
       " '_sh': <module 'IPython.core.shadowns' from '/home/deen/anaconda3/lib/python3.5/site-packages/IPython/core/shadowns.py'>,\n",
       " 'bzipped': <module 'reader.compressed.bzipped' from '/home/deen/Code/Python/Python Beyond the Basics/reader/compressed/bzipped.py'>,\n",
       " 'exit': <IPython.core.autocall.ZMQExitAutocall at 0x7ff431dc79b0>,\n",
       " 'get_ipython': <bound method InteractiveShell.get_ipython of <ipykernel.zmqshell.ZMQInteractiveShell object at 0x7ff434e1c9b0>>,\n",
       " 'gzipped': <module 'reader.compressed.gzipped' from '/home/deen/Code/Python/Python Beyond the Basics/reader/compressed/gzipped.py'>,\n",
       " 'quit': <IPython.core.autocall.ZMQExitAutocall at 0x7ff431dc79b0>}"
      ]
     },
     "execution_count": 3,
     "metadata": {},
     "output_type": "execute_result"
    }
   ],
   "source": [
    "locals()"
   ]
  },
  {
   "cell_type": "code",
   "execution_count": 4,
   "metadata": {
    "collapsed": false
   },
   "outputs": [
    {
     "name": "stdout",
     "output_type": "stream",
     "text": [
      "<module 'reader.compressed.bzipped' from '/home/deen/Code/Python/Python Beyond the Basics/reader/compressed/bzipped.py'>\n",
      "<module 'reader.compressed.gzipped' from '/home/deen/Code/Python/Python Beyond the Basics/reader/compressed/gzipped.py'>\n"
     ]
    }
   ],
   "source": [
    "print(bzipped)\n",
    "print(gzipped)"
   ]
  },
  {
   "cell_type": "markdown",
   "metadata": {},
   "source": [
    "### Here the complete module is imported to import only the OPENER function use \\__all__"
   ]
  },
  {
   "cell_type": "code",
   "execution_count": 1,
   "metadata": {
    "collapsed": true
   },
   "outputs": [],
   "source": [
    "from reader.compressed import *"
   ]
  },
  {
   "cell_type": "code",
   "execution_count": 2,
   "metadata": {
    "collapsed": false
   },
   "outputs": [
    {
     "data": {
      "text/plain": [
       "{'In': ['', 'from reader.compressed import *', 'locals()'],\n",
       " 'Out': {},\n",
       " '_': '',\n",
       " '__': '',\n",
       " '___': '',\n",
       " '__builtin__': <module 'builtins' (built-in)>,\n",
       " '__builtins__': <module 'builtins' (built-in)>,\n",
       " '__doc__': 'Automatically created module for IPython interactive environment',\n",
       " '__loader__': None,\n",
       " '__name__': '__main__',\n",
       " '__package__': None,\n",
       " '__spec__': None,\n",
       " '_dh': ['/home/deen/Code/Python/Python Beyond the Basics'],\n",
       " '_i': 'from reader.compressed import *',\n",
       " '_i1': 'from reader.compressed import *',\n",
       " '_i2': 'locals()',\n",
       " '_ih': ['', 'from reader.compressed import *', 'locals()'],\n",
       " '_ii': '',\n",
       " '_iii': '',\n",
       " '_oh': {},\n",
       " '_sh': <module 'IPython.core.shadowns' from '/home/deen/anaconda3/lib/python3.5/site-packages/IPython/core/shadowns.py'>,\n",
       " 'bz2_opener': <function bz2.open>,\n",
       " 'exit': <IPython.core.autocall.ZMQExitAutocall at 0x7f29e0303940>,\n",
       " 'get_ipython': <bound method InteractiveShell.get_ipython of <ipykernel.zmqshell.ZMQInteractiveShell object at 0x7f29e3358940>>,\n",
       " 'gz2_opener': <function gzip.open>,\n",
       " 'quit': <IPython.core.autocall.ZMQExitAutocall at 0x7f29e0303940>}"
      ]
     },
     "execution_count": 2,
     "metadata": {},
     "output_type": "execute_result"
    }
   ],
   "source": [
    "locals()"
   ]
  },
  {
   "cell_type": "markdown",
   "metadata": {},
   "source": [
    "### Note:\n",
    "Now only the opener functions are imported"
   ]
  },
  {
   "cell_type": "code",
   "execution_count": 3,
   "metadata": {
    "collapsed": false
   },
   "outputs": [
    {
     "name": "stdout",
     "output_type": "stream",
     "text": [
      "<function open at 0x7f29e9dd41e0>\n",
      "<function open at 0x7f29e0285b70>\n"
     ]
    }
   ],
   "source": [
    "print(bz2_opener)\n",
    "print(gz2_opener)"
   ]
  },
  {
   "cell_type": "markdown",
   "metadata": {},
   "source": [
    "## Namespace Packages"
   ]
  },
  {
   "cell_type": "markdown",
   "metadata": {},
   "source": [
    "Namespace packages are used to divide packages into subpackages  \n",
    "They don't necessarily have a \\__init__.py file  \n",
    "Consider this file-structure\n",
    "```\n",
    ".\n",
    "├── path1\n",
    "│   └── split_farm\n",
    "│       └── bovine\n",
    "│           ├── common.py\n",
    "│           ├── cow.py\n",
    "│           ├── __init__.py\n",
    "│           ├── ox.py\n",
    "│           └── string.py\n",
    "└── path2\n",
    "    └── split_farm\n",
    "        └── bird\n",
    "            ├── chicken.py\n",
    "            ├── __init__.py\n",
    "            └── turkey.py\n",
    "\n",
    "```\n",
    "Here the farm package is split into two parts part1, part2"
   ]
  },
  {
   "cell_type": "code",
   "execution_count": 4,
   "metadata": {
    "collapsed": true
   },
   "outputs": [],
   "source": [
    "import sys "
   ]
  },
  {
   "cell_type": "code",
   "execution_count": 5,
   "metadata": {
    "collapsed": true
   },
   "outputs": [],
   "source": [
    "# Adding path1, path2 to sys.path\n",
    "sys.path.extend(['farm/path1/', 'farm/path2/'])"
   ]
  },
  {
   "cell_type": "code",
   "execution_count": 6,
   "metadata": {
    "collapsed": true
   },
   "outputs": [],
   "source": [
    "# Here python searches for all modules(directories/ files) named split_farm and imports them\n",
    "import split_farm"
   ]
  },
  {
   "cell_type": "code",
   "execution_count": 7,
   "metadata": {
    "collapsed": false
   },
   "outputs": [
    {
     "data": {
      "text/plain": [
       "{'In': ['',\n",
       "  'from reader.compressed import *',\n",
       "  'locals()',\n",
       "  'print(bz2_opener)\\nprint(gz2_opener)',\n",
       "  'import sys ',\n",
       "  \"# Adding path1, path2 to sys.path\\nsys.path.extend(['farm/path1/', 'farm/path2/'])\",\n",
       "  'import split_farm',\n",
       "  'locals()'],\n",
       " 'Out': {2: {...}},\n",
       " '_': {...},\n",
       " '_2': {...},\n",
       " '__': '',\n",
       " '___': '',\n",
       " '__builtin__': <module 'builtins' (built-in)>,\n",
       " '__builtins__': <module 'builtins' (built-in)>,\n",
       " '__doc__': 'Automatically created module for IPython interactive environment',\n",
       " '__loader__': None,\n",
       " '__name__': '__main__',\n",
       " '__package__': None,\n",
       " '__spec__': None,\n",
       " '_dh': ['/home/deen/Code/Python/Python Beyond the Basics'],\n",
       " '_i': 'import split_farm',\n",
       " '_i1': 'from reader.compressed import *',\n",
       " '_i2': 'locals()',\n",
       " '_i3': 'print(bz2_opener)\\nprint(gz2_opener)',\n",
       " '_i4': 'import sys ',\n",
       " '_i5': \"# Adding path1, path2 to sys.path\\nsys.path.extend(['farm/path1/', 'farm/path2/'])\",\n",
       " '_i6': 'import split_farm',\n",
       " '_i7': 'locals()',\n",
       " '_ih': ['',\n",
       "  'from reader.compressed import *',\n",
       "  'locals()',\n",
       "  'print(bz2_opener)\\nprint(gz2_opener)',\n",
       "  'import sys ',\n",
       "  \"# Adding path1, path2 to sys.path\\nsys.path.extend(['farm/path1/', 'farm/path2/'])\",\n",
       "  'import split_farm',\n",
       "  'locals()'],\n",
       " '_ii': \"# Adding path1, path2 to sys.path\\nsys.path.extend(['farm/path1/', 'farm/path2/'])\",\n",
       " '_iii': 'import sys ',\n",
       " '_oh': {2: {...}},\n",
       " '_sh': <module 'IPython.core.shadowns' from '/home/deen/anaconda3/lib/python3.5/site-packages/IPython/core/shadowns.py'>,\n",
       " 'bz2_opener': <function bz2.open>,\n",
       " 'exit': <IPython.core.autocall.ZMQExitAutocall at 0x7f29e0303940>,\n",
       " 'get_ipython': <bound method InteractiveShell.get_ipython of <ipykernel.zmqshell.ZMQInteractiveShell object at 0x7f29e3358940>>,\n",
       " 'gz2_opener': <function gzip.open>,\n",
       " 'quit': <IPython.core.autocall.ZMQExitAutocall at 0x7f29e0303940>,\n",
       " 'split_farm': <module 'split_farm' (namespace)>,\n",
       " 'sys': <module 'sys' (built-in)>}"
      ]
     },
     "execution_count": 7,
     "metadata": {},
     "output_type": "execute_result"
    }
   ],
   "source": [
    "locals()"
   ]
  },
  {
   "cell_type": "code",
   "execution_count": 8,
   "metadata": {
    "collapsed": false
   },
   "outputs": [
    {
     "name": "stdout",
     "output_type": "stream",
     "text": [
      "<module 'split_farm' (namespace)>\n"
     ]
    }
   ],
   "source": [
    "print(split_farm)"
   ]
  },
  {
   "cell_type": "code",
   "execution_count": 10,
   "metadata": {
    "collapsed": false
   },
   "outputs": [
    {
     "name": "stdout",
     "output_type": "stream",
     "text": [
      "_NamespacePath(['farm/path1/split_farm', 'farm/path2/split_farm'])\n"
     ]
    }
   ],
   "source": [
    "print(split_farm.__path__) # Both split_farm's are imported"
   ]
  },
  {
   "cell_type": "markdown",
   "metadata": {},
   "source": [
    "### Now modules can be imported  from an of the split_farm"
   ]
  },
  {
   "cell_type": "code",
   "execution_count": 11,
   "metadata": {
    "collapsed": true
   },
   "outputs": [],
   "source": [
    "import split_farm.bird\n",
    "import split_farm.bovine"
   ]
  },
  {
   "cell_type": "code",
   "execution_count": 12,
   "metadata": {
    "collapsed": false
   },
   "outputs": [
    {
     "name": "stdout",
     "output_type": "stream",
     "text": [
      "['farm/path2/split_farm/bird']\n",
      "['farm/path1/split_farm/bovine']\n"
     ]
    }
   ],
   "source": [
    "print(split_farm.bird.__path__)\n",
    "print(split_farm.bovine.__path__)"
   ]
  }
 ],
 "metadata": {
  "kernelspec": {
   "display_name": "Python [conda root]",
   "language": "python",
   "name": "conda-root-py"
  },
  "language_info": {
   "codemirror_mode": {
    "name": "ipython",
    "version": 3
   },
   "file_extension": ".py",
   "mimetype": "text/x-python",
   "name": "python",
   "nbconvert_exporter": "python",
   "pygments_lexer": "ipython3",
   "version": "3.5.2"
  }
 },
 "nbformat": 4,
 "nbformat_minor": 2
}
