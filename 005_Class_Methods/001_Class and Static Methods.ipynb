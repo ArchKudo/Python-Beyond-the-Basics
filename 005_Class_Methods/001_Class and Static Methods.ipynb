{
 "cells": [
  {
   "cell_type": "markdown",
   "metadata": {},
   "source": [
    "## Class variables"
   ]
  },
  {
   "cell_type": "code",
   "execution_count": 1,
   "metadata": {
    "collapsed": true
   },
   "outputs": [],
   "source": [
    "class ShippingContainer:\n",
    "    \n",
    "    serial = 0 # A class variable\n",
    "    \n",
    "    def __init__(self, owner, contents):\n",
    "        self.owner = owner # Instance variable\n",
    "        self.contents = contents\n",
    "        self.serial = ShippingContainer.serial\n",
    "        ShippingContainer.serial += 1 # Increment class variable"
   ]
  },
  {
   "cell_type": "code",
   "execution_count": 2,
   "metadata": {
    "collapsed": true
   },
   "outputs": [],
   "source": [
    "nasa = ShippingContainer('NASA', 'blue things')"
   ]
  },
  {
   "cell_type": "code",
   "execution_count": 3,
   "metadata": {
    "collapsed": true
   },
   "outputs": [],
   "source": [
    "isro = ShippingContainer('ISRO', 'yellow things')"
   ]
  },
  {
   "cell_type": "code",
   "execution_count": 4,
   "metadata": {
    "collapsed": false
   },
   "outputs": [
    {
     "data": {
      "text/plain": [
       "0"
      ]
     },
     "execution_count": 4,
     "metadata": {},
     "output_type": "execute_result"
    }
   ],
   "source": [
    "nasa.serial"
   ]
  },
  {
   "cell_type": "code",
   "execution_count": 5,
   "metadata": {
    "collapsed": false
   },
   "outputs": [
    {
     "data": {
      "text/plain": [
       "1"
      ]
     },
     "execution_count": 5,
     "metadata": {},
     "output_type": "execute_result"
    }
   ],
   "source": [
    "isro.serial"
   ]
  },
  {
   "cell_type": "markdown",
   "metadata": {},
   "source": [
    "## Static Methods"
   ]
  },
  {
   "cell_type": "code",
   "execution_count": 6,
   "metadata": {
    "collapsed": true
   },
   "outputs": [],
   "source": [
    "class ShippingContainer:\n",
    "    \n",
    "    serial = 0 # A class variable\n",
    "    \n",
    "    # Static methods are equivalent to functions defined outside the class\n",
    "    @staticmethod # No need to add `self` argument to _get_serial\n",
    "    def _get_serial():\n",
    "        result = ShippingContainer.serial\n",
    "        ShippingContainer.serial += 1\n",
    "        return result\n",
    "    \n",
    "    def __init__(self, owner, contents):\n",
    "        self.owner = owner # Instance variable\n",
    "        self.contents = contents # Yet another instance variable\n",
    "        self.serial = ShippingContainer._get_serial()"
   ]
  },
  {
   "cell_type": "code",
   "execution_count": 7,
   "metadata": {
    "collapsed": true
   },
   "outputs": [],
   "source": [
    "google = ShippingContainer('GOOGLE', 'turqouisy things')"
   ]
  },
  {
   "cell_type": "code",
   "execution_count": 8,
   "metadata": {
    "collapsed": true
   },
   "outputs": [],
   "source": [
    "microsoft = ShippingContainer('MICROSOFT', 'blackish things')"
   ]
  },
  {
   "cell_type": "code",
   "execution_count": 9,
   "metadata": {
    "collapsed": false
   },
   "outputs": [
    {
     "data": {
      "text/plain": [
       "0"
      ]
     },
     "execution_count": 9,
     "metadata": {},
     "output_type": "execute_result"
    }
   ],
   "source": [
    "google.serial"
   ]
  },
  {
   "cell_type": "code",
   "execution_count": 10,
   "metadata": {
    "collapsed": false
   },
   "outputs": [
    {
     "data": {
      "text/plain": [
       "1"
      ]
     },
     "execution_count": 10,
     "metadata": {},
     "output_type": "execute_result"
    }
   ],
   "source": [
    "microsoft.serial"
   ]
  },
  {
   "cell_type": "markdown",
   "metadata": {},
   "source": [
    "## Class Methods"
   ]
  },
  {
   "cell_type": "code",
   "execution_count": 11,
   "metadata": {
    "collapsed": true
   },
   "outputs": [],
   "source": [
    "class ShippingContainer:\n",
    "    \n",
    "    serial = 0 # A class variable\n",
    "    \n",
    "    # Class methods are used when class objects are required\n",
    "    @classmethod # Add class as argument\n",
    "    def _get_serial(Sc):\n",
    "        result = Sc.serial\n",
    "        Sc.serial += 1\n",
    "        return result\n",
    "    \n",
    "    def __init__(self, owner, contents):\n",
    "        self.owner = owner # Instance variable\n",
    "        self.contents = contents\n",
    "        self.serial = ShippingContainer._get_serial()"
   ]
  },
  {
   "cell_type": "code",
   "execution_count": 12,
   "metadata": {
    "collapsed": true
   },
   "outputs": [],
   "source": [
    "adafruit = ShippingContainer('ADAFRUIT', 'white thingys')"
   ]
  },
  {
   "cell_type": "code",
   "execution_count": 13,
   "metadata": {
    "collapsed": true
   },
   "outputs": [],
   "source": [
    "arduino = ShippingContainer('ARDUINO', 'silver thingies')"
   ]
  },
  {
   "cell_type": "code",
   "execution_count": 14,
   "metadata": {
    "collapsed": false
   },
   "outputs": [
    {
     "data": {
      "text/plain": [
       "'white thingys'"
      ]
     },
     "execution_count": 14,
     "metadata": {},
     "output_type": "execute_result"
    }
   ],
   "source": [
    "adafruit.contents"
   ]
  },
  {
   "cell_type": "code",
   "execution_count": 15,
   "metadata": {
    "collapsed": false
   },
   "outputs": [
    {
     "data": {
      "text/plain": [
       "0"
      ]
     },
     "execution_count": 15,
     "metadata": {},
     "output_type": "execute_result"
    }
   ],
   "source": [
    "adafruit.serial"
   ]
  },
  {
   "cell_type": "code",
   "execution_count": 16,
   "metadata": {
    "collapsed": false
   },
   "outputs": [
    {
     "data": {
      "text/plain": [
       "1"
      ]
     },
     "execution_count": 16,
     "metadata": {},
     "output_type": "execute_result"
    }
   ],
   "source": [
    "arduino.serial"
   ]
  },
  {
   "cell_type": "markdown",
   "metadata": {},
   "source": [
    "## Factory Functions wih class methods"
   ]
  },
  {
   "cell_type": "code",
   "execution_count": 17,
   "metadata": {
    "collapsed": true
   },
   "outputs": [],
   "source": [
    "class ShippingContainer:\n",
    "    \n",
    "    serial = 0 # A class variable\n",
    "    \n",
    "    @classmethod # Add class as argument\n",
    "    def _get_serial(Sc):\n",
    "        result = Sc.serial\n",
    "        Sc.serial += 1\n",
    "        return result\n",
    "    \n",
    "    @classmethod\n",
    "    def create_empty(cls, owner):\n",
    "        return cls(owner, contents = None)\n",
    "        \n",
    "    @classmethod\n",
    "    def create_with_items(cls, owner, contents):\n",
    "        return cls(owner, contents)\n",
    "    \n",
    "    def __init__(self, owner, contents):\n",
    "        self.owner = owner # Instance variable\n",
    "        self.contents = contents\n",
    "        self.serial = ShippingContainer._get_serial()"
   ]
  },
  {
   "cell_type": "code",
   "execution_count": 18,
   "metadata": {
    "collapsed": true
   },
   "outputs": [],
   "source": [
    "sammy = ShippingContainer('SAMSUNG', 'transparent things')"
   ]
  },
  {
   "cell_type": "code",
   "execution_count": 19,
   "metadata": {
    "collapsed": true
   },
   "outputs": [],
   "source": [
    "apple = ShippingContainer('APPLE', 'glossy things')"
   ]
  },
  {
   "cell_type": "code",
   "execution_count": 20,
   "metadata": {
    "collapsed": true
   },
   "outputs": [],
   "source": [
    "nokia = ShippingContainer.create_empty('NOKIA')"
   ]
  },
  {
   "cell_type": "code",
   "execution_count": 21,
   "metadata": {
    "collapsed": false
   },
   "outputs": [
    {
     "data": {
      "text/plain": [
       "2"
      ]
     },
     "execution_count": 21,
     "metadata": {},
     "output_type": "execute_result"
    }
   ],
   "source": [
    "nokia.serial"
   ]
  },
  {
   "cell_type": "markdown",
   "metadata": {},
   "source": [
    "## A more elaborate example"
   ]
  },
  {
   "cell_type": "code",
   "execution_count": 22,
   "metadata": {
    "collapsed": true
   },
   "outputs": [],
   "source": [
    "import iso6346 # To create BIC code, given the serial"
   ]
  },
  {
   "cell_type": "code",
   "execution_count": 23,
   "metadata": {
    "collapsed": true
   },
   "outputs": [],
   "source": [
    "class ShippingContainer:\n",
    "    \n",
    "    serial = 0 # A class variable\n",
    "    \n",
    "    \n",
    "    @staticmethod\n",
    "    def _make_bic_code(owner, serial):\n",
    "        return iso6346.create(owner_code=owner, serial=str(serial).zfill(6))\n",
    "    \n",
    "    \n",
    "    @classmethod # Add class as argument\n",
    "    def _get_serial(Sc):\n",
    "        result = Sc.serial\n",
    "        Sc.serial += 1\n",
    "        return result\n",
    "    \n",
    "    \n",
    "    @classmethod\n",
    "    def create_empty(cls, owner):\n",
    "        return cls(owner, contents = None)\n",
    "    \n",
    "        \n",
    "    @classmethod\n",
    "    def create_with_items(cls, owner, contents):\n",
    "        return cls(owner, contents)\n",
    "    \n",
    "    \n",
    "    def __init__(self, owner, contents):\n",
    "        self.contents = contents\n",
    "        self.bic_code = ShippingContainer._make_bic_code(owner=owner, serial=ShippingContainer._get_serial())"
   ]
  },
  {
   "cell_type": "code",
   "execution_count": 24,
   "metadata": {
    "collapsed": true
   },
   "outputs": [],
   "source": [
    "amazon = ShippingContainer('AMZ', ['black things', 'blue things', 'orange things'])"
   ]
  },
  {
   "cell_type": "code",
   "execution_count": 25,
   "metadata": {
    "collapsed": false
   },
   "outputs": [
    {
     "data": {
      "text/plain": [
       "'AMZU0000004'"
      ]
     },
     "execution_count": 25,
     "metadata": {},
     "output_type": "execute_result"
    }
   ],
   "source": [
    "amazon.bic_code"
   ]
  },
  {
   "cell_type": "markdown",
   "metadata": {},
   "source": [
    "## Choosing static v/s class methods"
   ]
  },
  {
   "cell_type": "code",
   "execution_count": 26,
   "metadata": {
    "collapsed": false
   },
   "outputs": [
    {
     "data": {
      "image/png": "[encoded data removed]",
      "text/plain": [
       "<IPython.core.display.Image object>"
      ]
     },
     "execution_count": 26,
     "metadata": {},
     "output_type": "execute_result"
    }
   ],
   "source": [
    "from IPython.display import Image\n",
    "Image('static_vs_class.png')"
   ]
  },
  {
   "cell_type": "markdown",
   "metadata": {},
   "source": [
    "## Static methods in inheritance"
   ]
  },
  {
   "cell_type": "code",
   "execution_count": 27,
   "metadata": {
    "collapsed": true
   },
   "outputs": [],
   "source": [
    "class ShippingContainer:\n",
    "    \n",
    "    serial = 0 # A class variable\n",
    "    \n",
    "    \n",
    "    @staticmethod\n",
    "    def _make_bic_code(owner, serial):\n",
    "        return iso6346.create(owner_code=owner, serial=str(serial).zfill(6))\n",
    "    \n",
    "    @classmethod # Add class as argument\n",
    "    def _get_serial(Sc):\n",
    "        result = Sc.serial\n",
    "        Sc.serial += 1\n",
    "        return result\n",
    "    \n",
    "    @classmethod\n",
    "    def create_empty(cls, owner):\n",
    "        return cls(owner, contents = None)\n",
    "         \n",
    "    @classmethod\n",
    "    def create_with_items(cls, owner, contents):\n",
    "        return cls(owner, contents)\n",
    "    \n",
    "    def __init__(self, owner, contents):\n",
    "        self.contents = contents\n",
    "        # Static methods can change instance and not the class object and hence,\n",
    "        # the self._make_bic_code instead of ShippingContainer._make_bic_code\n",
    "        self.bic_code = self._make_bic_code(owner=owner, serial=ShippingContainer._get_serial())\n",
    "       \n",
    "       \n",
    "class RefrigeratedShippingContainer(ShippingContainer):\n",
    "    \n",
    "    @staticmethod\n",
    "    def _make_bic_code(owner, serial):\n",
    "        return iso6346.create(owner_code=owner, serial=str(serial).zfill(6), category='R')"
   ]
  },
  {
   "cell_type": "code",
   "execution_count": 28,
   "metadata": {
    "collapsed": true
   },
   "outputs": [],
   "source": [
    "kinley = RefrigeratedShippingContainer('KIN', ['yellow', 'purple', 'green'])"
   ]
  },
  {
   "cell_type": "code",
   "execution_count": 29,
   "metadata": {
    "collapsed": false
   },
   "outputs": [
    {
     "data": {
      "text/plain": [
       "'KINR0000006'"
      ]
     },
     "execution_count": 29,
     "metadata": {},
     "output_type": "execute_result"
    }
   ],
   "source": [
    "kinley.bic_code"
   ]
  },
  {
   "cell_type": "markdown",
   "metadata": {},
   "source": [
    "## Class methods and inheritance"
   ]
  },
  {
   "cell_type": "code",
   "execution_count": 30,
   "metadata": {
    "collapsed": true
   },
   "outputs": [],
   "source": [
    "class ShippingContainer:\n",
    "    \n",
    "    serial = 0 # A class variable\n",
    "    \n",
    "    \n",
    "    @staticmethod\n",
    "    def _make_bic_code(owner, serial):\n",
    "        return iso6346.create(owner_code=owner, serial=str(serial).zfill(6))\n",
    "    \n",
    "    @classmethod # Add class as argument\n",
    "    def _get_serial(Sc):\n",
    "        result = Sc.serial\n",
    "        Sc.serial += 1\n",
    "        return result\n",
    "    \n",
    "    @classmethod\n",
    "    # To accomodate extra args of child class\n",
    "    def create_empty(cls, owner, *args, **kwargs):\n",
    "        return cls(owner, contents = None, *args, **kwargs)\n",
    "         \n",
    "    @classmethod\n",
    "    # To accomodate extra args of child class\n",
    "    def create_with_items(cls, owner, contents, *args, **kwargs):\n",
    "        return cls(owner, contents, *args, **kwargs)\n",
    "    \n",
    "    def __init__(self, owner, contents):\n",
    "        self.contents = contents\n",
    "        # Static methods can change instance and not the class object and hence,\n",
    "        # the self._make_bic_code instead of ShippingContainer._make_bic_code\n",
    "        self.bic_code = self._make_bic_code(owner=owner, serial=ShippingContainer._get_serial())\n",
    "       \n",
    "       \n",
    "class RefrigeratedShippingContainer(ShippingContainer):\n",
    "    \n",
    "    MAX_TEMP = 4.0\n",
    "    \n",
    "    @staticmethod\n",
    "    def _make_bic_code(owner, serial):\n",
    "        return iso6346.create(owner_code=owner, serial=str(serial).zfill(6), category='R')\n",
    "    \n",
    "    def __init__(self, owner, contents, celsius):\n",
    "        # To get init method of parent\n",
    "        super().__init__(owner, contents)\n",
    "        if celsius > RefrigeratedShippingContainer.MAX_TEMP:\n",
    "            raise ValueError('Temperature can\\'t be greater than 4°C')\n",
    "        self.celsius = celsius"
   ]
  },
  {
   "cell_type": "code",
   "execution_count": 31,
   "metadata": {
    "collapsed": false
   },
   "outputs": [],
   "source": [
    "bisleri = RefrigeratedShippingContainer.create_empty('BIS', celsius=4)"
   ]
  },
  {
   "cell_type": "code",
   "execution_count": 32,
   "metadata": {
    "collapsed": false
   },
   "outputs": [
    {
     "data": {
      "text/plain": [
       "1"
      ]
     },
     "execution_count": 32,
     "metadata": {},
     "output_type": "execute_result"
    }
   ],
   "source": [
    "bisleri.serial"
   ]
  },
  {
   "cell_type": "code",
   "execution_count": 33,
   "metadata": {
    "collapsed": false
   },
   "outputs": [
    {
     "data": {
      "text/plain": [
       "'BISR0000006'"
      ]
     },
     "execution_count": 33,
     "metadata": {},
     "output_type": "execute_result"
    }
   ],
   "source": [
    "bisleri.bic_code"
   ]
  },
  {
   "cell_type": "code",
   "execution_count": 34,
   "metadata": {
    "collapsed": true
   },
   "outputs": [],
   "source": [
    "# However celsius attribute is not bounded\n",
    "bisleri.celsius = 34.0"
   ]
  },
  {
   "cell_type": "code",
   "execution_count": 35,
   "metadata": {
    "collapsed": false
   },
   "outputs": [
    {
     "data": {
      "text/plain": [
       "34.0"
      ]
     },
     "execution_count": 35,
     "metadata": {},
     "output_type": "execute_result"
    }
   ],
   "source": [
    "bisleri.celsius"
   ]
  },
  {
   "cell_type": "markdown",
   "metadata": {},
   "source": [
    "## Using the property decorator\n",
    "The pythonic way to do getters and setters"
   ]
  },
  {
   "cell_type": "code",
   "execution_count": 36,
   "metadata": {
    "collapsed": false
   },
   "outputs": [],
   "source": [
    "class ShippingContainer:\n",
    "    \n",
    "    serial = 0 # A class variable\n",
    "    \n",
    "    \n",
    "    @staticmethod\n",
    "    def _make_bic_code(owner, serial):\n",
    "        return iso6346.create(owner_code=owner, serial=str(serial).zfill(6))\n",
    "    \n",
    "    @classmethod # Add class as argument\n",
    "    def _get_serial(Sc):\n",
    "        result = Sc.serial\n",
    "        Sc.serial += 1\n",
    "        return result\n",
    "    \n",
    "    @classmethod\n",
    "    # To accomodate extra args of child class\n",
    "    def create_empty(cls, owner, *args, **kwargs):\n",
    "        return cls(owner, contents = None, *args, **kwargs)\n",
    "         \n",
    "    @classmethod\n",
    "    # To accomodate extra args of child class\n",
    "    def create_with_items(cls, owner, contents, *args, **kwargs):\n",
    "        return cls(owner, contents, *args, **kwargs)\n",
    "    \n",
    "    def __init__(self, owner, contents):\n",
    "        self.contents = contents\n",
    "        # Static methods can change instance and not the class object and hence,\n",
    "        # the self._make_bic_code instead of ShippingContainer._make_bic_code\n",
    "        self.bic_code = self._make_bic_code(owner=owner, serial=ShippingContainer._get_serial())\n",
    "       \n",
    "       \n",
    "class RefrigeratedShippingContainer(ShippingContainer):\n",
    "    \n",
    "    MAX_TEMP = 4.0\n",
    "    \n",
    "    @staticmethod\n",
    "    def _make_bic_code(owner, serial):\n",
    "        return iso6346.create(owner_code=owner, serial=str(serial).zfill(6), category='R')\n",
    "    \n",
    "    def __init__(self, owner, contents, celsius):\n",
    "        # To get init method of parent\n",
    "        super().__init__(owner, contents)\n",
    "        if celsius > RefrigeratedShippingContainer.MAX_TEMP:\n",
    "            raise ValueError('Temperature can\\'t be greater than 4°C')\n",
    "            \n",
    "        # _celsius a convention for naming (not so) private variables\n",
    "        self._celsius = celsius\n",
    "    \n",
    "    @property\n",
    "    def celsius(self):\n",
    "        return self._celsius\n",
    "    \n",
    "    @celsius.setter\n",
    "    def celsius(self, value):\n",
    "        if value > RefrigeratedShippingContainer.MAX_TEMP:\n",
    "            raise ValueError('Temperature can\\'t be greater than 4°C')\n",
    "        self._celsius = value"
   ]
  },
  {
   "cell_type": "code",
   "execution_count": 37,
   "metadata": {
    "collapsed": false
   },
   "outputs": [
    {
     "name": "stdout",
     "output_type": "stream",
     "text": [
      "Temperature can't be greater than 4°C\n"
     ]
    }
   ],
   "source": [
    "try:\n",
    "    funfoods = RefrigeratedShippingContainer('FFD', ['creamy', 'burgundish', 'pale'], 18.0)\n",
    "except Exception as e:\n",
    "    print(e)\n",
    "    funfoods = RefrigeratedShippingContainer('FFD', ['creamy', 'burgundish', 'pale'], -18.0)"
   ]
  },
  {
   "cell_type": "code",
   "execution_count": 38,
   "metadata": {
    "collapsed": false
   },
   "outputs": [
    {
     "name": "stdout",
     "output_type": "stream",
     "text": [
      "Temperature can't be greater than 4°C\n"
     ]
    }
   ],
   "source": [
    "try:\n",
    "    funfoods.celsius = 32.0\n",
    "except ValueError as e:\n",
    "    print(e)"
   ]
  },
  {
   "cell_type": "markdown",
   "metadata": {},
   "source": [
    "### Adding temperature conversions\n"
   ]
  },
  {
   "cell_type": "code",
   "execution_count": 39,
   "metadata": {
    "collapsed": true
   },
   "outputs": [],
   "source": [
    "class ShippingContainer:\n",
    "    \n",
    "    serial = 0 # A class variable\n",
    "    \n",
    "    \n",
    "    @staticmethod\n",
    "    def _make_bic_code(owner, serial):\n",
    "        return iso6346.create(owner_code=owner, serial=str(serial).zfill(6))\n",
    "    \n",
    "    @classmethod # Add class as argument\n",
    "    def _get_serial(Sc):\n",
    "        result = Sc.serial\n",
    "        Sc.serial += 1\n",
    "        return result\n",
    "    \n",
    "    @classmethod\n",
    "    # To accomodate extra args of child class\n",
    "    def create_empty(cls, owner, *args, **kwargs):\n",
    "        return cls(owner, contents = None, *args, **kwargs)\n",
    "         \n",
    "    @classmethod\n",
    "    # To accomodate extra args of child class\n",
    "    def create_with_items(cls, owner, contents, *args, **kwargs):\n",
    "        return cls(owner, contents, *args, **kwargs)\n",
    "    \n",
    "    def __init__(self, owner, contents):\n",
    "        self.contents = contents\n",
    "        # Static methods can change instance and not the class object and hence,\n",
    "        # the self._make_bic_code instead of ShippingContainer._make_bic_code\n",
    "        self.bic_code = self._make_bic_code(owner=owner, serial=ShippingContainer._get_serial())\n",
    "       \n",
    "       \n",
    "class RefrigeratedShippingContainer(ShippingContainer):\n",
    "    \n",
    "    MAX_TEMP = 4.0\n",
    "    \n",
    "    @staticmethod\n",
    "    def _f_to_c(fahrenheit):\n",
    "        return (fahrenheit - 32) * 5 / 9\n",
    "    \n",
    "    @staticmethod\n",
    "    def _c_to_f(celsius):\n",
    "        return (celsius) * 9 / 5 + 32\n",
    "    \n",
    "    @staticmethod\n",
    "    def _make_bic_code(owner, serial):\n",
    "        return iso6346.create(owner_code=owner, serial=str(serial).zfill(6), category='R')\n",
    "    \n",
    "    def __init__(self, owner, contents, celsius):\n",
    "        # To get init method of parent\n",
    "        super().__init__(owner, contents)\n",
    "        # Equivalent to self._celsius = celsius with celsius.setter checks\n",
    "        self.celsius = celsius\n",
    "    \n",
    "    @property\n",
    "    def celsius(self):\n",
    "        return self._celsius\n",
    "    \n",
    "    @celsius.setter\n",
    "    def celsius(self, value):\n",
    "        if value > RefrigeratedShippingContainer.MAX_TEMP:\n",
    "            raise ValueError('Temperature can\\'t be greater than 4°C')\n",
    "        self._celsius = value\n",
    "    \n",
    "    @property\n",
    "    def fahrenheit(self):\n",
    "        return RefrigeratedShippingContainer._c_to_f(self.celsius)\n",
    "    \n",
    "    @fahrenheit.setter\n",
    "    def fahrenheit(self, value):\n",
    "        self.celsius = RefrigeratedShippingContainer._f_to_c(value)"
   ]
  },
  {
   "cell_type": "code",
   "execution_count": 40,
   "metadata": {
    "collapsed": false
   },
   "outputs": [],
   "source": [
    "heineken = RefrigeratedShippingContainer.create_empty('HEN', celsius=4.0)"
   ]
  },
  {
   "cell_type": "code",
   "execution_count": 41,
   "metadata": {
    "collapsed": false
   },
   "outputs": [
    {
     "data": {
      "text/plain": [
       "'HENR0000006'"
      ]
     },
     "execution_count": 41,
     "metadata": {},
     "output_type": "execute_result"
    }
   ],
   "source": [
    "heineken.bic_code"
   ]
  },
  {
   "cell_type": "code",
   "execution_count": 42,
   "metadata": {
    "collapsed": true
   },
   "outputs": [],
   "source": [
    "heineken.fahrenheit = 10"
   ]
  },
  {
   "cell_type": "code",
   "execution_count": 43,
   "metadata": {
    "collapsed": false
   },
   "outputs": [
    {
     "data": {
      "text/plain": [
       "-12.222222222222221"
      ]
     },
     "execution_count": 43,
     "metadata": {},
     "output_type": "execute_result"
    }
   ],
   "source": [
    "heineken.celsius"
   ]
  },
  {
   "cell_type": "code",
   "execution_count": 44,
   "metadata": {
    "collapsed": false
   },
   "outputs": [
    {
     "name": "stdout",
     "output_type": "stream",
     "text": [
      "Temperature can't be greater than 4°C\n"
     ]
    }
   ],
   "source": [
    "try:\n",
    "    heineken.fahrenheit = 200\n",
    "except ValueError as e:\n",
    "    print(e)"
   ]
  },
  {
   "cell_type": "code",
   "execution_count": 45,
   "metadata": {
    "collapsed": false
   },
   "outputs": [
    {
     "data": {
      "text/plain": [
       "-12.222222222222221"
      ]
     },
     "execution_count": 45,
     "metadata": {},
     "output_type": "execute_result"
    }
   ],
   "source": [
    "heineken.celsius"
   ]
  },
  {
   "cell_type": "code",
   "execution_count": 46,
   "metadata": {
    "collapsed": false
   },
   "outputs": [
    {
     "data": {
      "text/plain": [
       "-12.222222222222221"
      ]
     },
     "execution_count": 46,
     "metadata": {},
     "output_type": "execute_result"
    }
   ],
   "source": [
    "heineken._celsius"
   ]
  },
  {
   "cell_type": "code",
   "execution_count": 47,
   "metadata": {
    "collapsed": false
   },
   "outputs": [
    {
     "name": "stdout",
     "output_type": "stream",
     "text": [
      "Temperature can't be greater than 4°C\n"
     ]
    }
   ],
   "source": [
    "try:\n",
    "    cola = RefrigeratedShippingContainer.create_empty('HEN', celsius=32)\n",
    "except ValueError as e:\n",
    "    print(e)"
   ]
  },
  {
   "cell_type": "markdown",
   "metadata": {},
   "source": [
    "### Adding Volume"
   ]
  },
  {
   "cell_type": "code",
   "execution_count": 48,
   "metadata": {
    "collapsed": true
   },
   "outputs": [],
   "source": [
    "class ShippingContainer:\n",
    "    \n",
    "    serial = 0 # A class variable\n",
    "    \n",
    "    HEIGHT_FT = 100\n",
    "    WIDTH_FT = 100\n",
    "    \n",
    "    @staticmethod\n",
    "    def _make_bic_code(owner, serial):\n",
    "        return iso6346.create(owner_code=owner, serial=str(serial).zfill(6))\n",
    "    \n",
    "    @classmethod # Add class as argument\n",
    "    def _get_serial(Sc):\n",
    "        result = Sc.serial\n",
    "        Sc.serial += 1\n",
    "        return result\n",
    "    \n",
    "    @classmethod\n",
    "    # To accomodate extra args of child class\n",
    "    def create_empty(cls, owner, *args, **kwargs):\n",
    "        return cls(owner, contents = None, *args, **kwargs)\n",
    "         \n",
    "    @classmethod\n",
    "    # To accomodate extra args of child class\n",
    "    def create_with_items(cls, owner, contents, *args, **kwargs):\n",
    "        return cls(owner, contents, *args, **kwargs)\n",
    "    \n",
    "    def __init__(self, owner, contents, length_ft):\n",
    "        self.contents = contents\n",
    "        self.length_ft = length_ft\n",
    "        # Static methods can change instance and not the class object and hence,\n",
    "        # the self._make_bic_code instead of ShippingContainer._make_bic_code\n",
    "        self.bic_code = self._make_bic_code(owner=owner, serial=ShippingContainer._get_serial())\n",
    "    \n",
    "    @property\n",
    "    def volume_ft3(self):\n",
    "        return ShippingContainer.HEIGHT_FT * ShippingContainer.WIDTH_FT * self.length_ft\n",
    "\n",
    "\n",
    "class RefrigeratedShippingContainer(ShippingContainer):\n",
    "    \n",
    "    MAX_TEMP = 4.0\n",
    "    FRIDGE_VOLUME = 100\n",
    "    \n",
    "    @staticmethod\n",
    "    def _f_to_c(fahrenheit):\n",
    "        return (fahrenheit - 32) * 5 / 9\n",
    "    \n",
    "    @staticmethod\n",
    "    def _c_to_f(celsius):\n",
    "        return (celsius) * 9 / 5 + 32\n",
    "    \n",
    "    @staticmethod\n",
    "    def _make_bic_code(owner, serial):\n",
    "        return iso6346.create(owner_code=owner, serial=str(serial).zfill(6), category='R')\n",
    "    \n",
    "    def __init__(self, owner, contents, length_ft, celsius):\n",
    "        # To get init method of parent\n",
    "        super().__init__(owner, contents, length_ft)\n",
    "        # Equivalent to self._celsius = celsius with celsius.setter checks\n",
    "        self.celsius = celsius\n",
    "    \n",
    "    @property\n",
    "    def celsius(self):\n",
    "        return self._celsius\n",
    "    \n",
    "    @celsius.setter\n",
    "    def celsius(self, value):\n",
    "        if value > RefrigeratedShippingContainer.MAX_TEMP:\n",
    "            raise ValueError('Temperature can\\'t be greater than 4°C')\n",
    "        self._celsius = value\n",
    "    \n",
    "    @property\n",
    "    def fahrenheit(self):\n",
    "        return RefrigeratedShippingContainer._c_to_f(self.celsius)\n",
    "    \n",
    "    @fahrenheit.setter\n",
    "    def fahrenheit(self, value):\n",
    "        self.celsius = RefrigeratedShippingContainer._f_to_c(value)\n",
    "    \n",
    "    @property\n",
    "    def volume_ft3(self):\n",
    "        # Using super()\n",
    "        # No need to pass self argument\n",
    "        return super().volume_ft3 - RefrigeratedShippingContainer.FRIDGE_VOLUME\n",
    "#         return (self.length_ft\n",
    "#                * RefrigeratedShippingContainer.WIDTH_FT\n",
    "#                * RefrigeratedShippingContainer.HEIGHT_FT\n",
    "#                - RefrigeratedShippingContainer.FRIDGE_VOLUME)"
   ]
  },
  {
   "cell_type": "code",
   "execution_count": 49,
   "metadata": {
    "collapsed": false
   },
   "outputs": [],
   "source": [
    "crayola = ShippingContainer.create_empty('CYA', length_ft=100)"
   ]
  },
  {
   "cell_type": "code",
   "execution_count": 50,
   "metadata": {
    "collapsed": false
   },
   "outputs": [
    {
     "data": {
      "text/plain": [
       "1000000"
      ]
     },
     "execution_count": 50,
     "metadata": {},
     "output_type": "execute_result"
    }
   ],
   "source": [
    "crayola.volume_ft3"
   ]
  },
  {
   "cell_type": "code",
   "execution_count": 51,
   "metadata": {
    "collapsed": false
   },
   "outputs": [],
   "source": [
    "hersheys = RefrigeratedShippingContainer('HSS', contents=['black', 'blue', 'cream'], celsius=4, length_ft=200)"
   ]
  },
  {
   "cell_type": "code",
   "execution_count": 52,
   "metadata": {
    "collapsed": false
   },
   "outputs": [
    {
     "data": {
      "text/plain": [
       "1999900"
      ]
     },
     "execution_count": 52,
     "metadata": {},
     "output_type": "execute_result"
    }
   ],
   "source": [
    "hersheys.volume_ft3"
   ]
  },
  {
   "cell_type": "markdown",
   "metadata": {},
   "source": [
    "### Using bounded temperatures"
   ]
  },
  {
   "cell_type": "code",
   "execution_count": 62,
   "metadata": {
    "collapsed": true
   },
   "outputs": [],
   "source": [
    "class HeatedRefrigeratedShippingContainer(RefrigeratedShippingContainer):\n",
    "    \n",
    "    MIN_CELSIUS = -20.0\n",
    "    \n",
    "    @RefrigeratedShippingContainer.celsius.setter\n",
    "    def celsius(self, value):\n",
    "        if value < HeatedRefrigeratedShippingContainer.MIN_CELSIUS:\n",
    "            raise ValueError('Temperature too cold < {}'.format(HeatedRefrigeratedShippingContainer.MIN_CELSIUS))\n",
    "        # Here super() doesn't work\n",
    "        RefrigeratedShippingContainer.celsius.fset(self, value)"
   ]
  },
  {
   "cell_type": "code",
   "execution_count": 63,
   "metadata": {
    "collapsed": false
   },
   "outputs": [],
   "source": [
    "ambuja = HeatedRefrigeratedShippingContainer('AUA', ['metal', 'coarsy'], 100, celsius=-12)"
   ]
  },
  {
   "cell_type": "code",
   "execution_count": 64,
   "metadata": {
    "collapsed": false
   },
   "outputs": [
    {
     "name": "stdout",
     "output_type": "stream",
     "text": [
      "Temperature too cold < -20.0\n"
     ]
    }
   ],
   "source": [
    "try:\n",
    "    ambuja.celsius = -25.0\n",
    "except ValueError as e:\n",
    "    print(e)"
   ]
  },
  {
   "cell_type": "code",
   "execution_count": 65,
   "metadata": {
    "collapsed": false
   },
   "outputs": [
    {
     "name": "stdout",
     "output_type": "stream",
     "text": [
      "Temperature can't be greater than 4°C\n"
     ]
    }
   ],
   "source": [
    "try:\n",
    "    ambuja.celsius = 25.0\n",
    "except ValueError as e:\n",
    "    print(e)"
   ]
  },
  {
   "cell_type": "code",
   "execution_count": null,
   "metadata": {
    "collapsed": true
   },
   "outputs": [],
   "source": []
  }
 ],
 "metadata": {
  "kernelspec": {
   "display_name": "Python [conda root]",
   "language": "python",
   "name": "conda-root-py"
  },
  "language_info": {
   "codemirror_mode": {
    "name": "ipython",
    "version": 3
   },
   "file_extension": ".py",
   "mimetype": "text/x-python",
   "name": "python",
   "nbconvert_exporter": "python",
   "pygments_lexer": "ipython3",
   "version": "3.5.2"
  }
 },
 "nbformat": 4,
 "nbformat_minor": 2
}
